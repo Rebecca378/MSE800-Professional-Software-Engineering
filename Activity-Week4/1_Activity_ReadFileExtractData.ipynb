{
  "nbformat": 4,
  "nbformat_minor": 0,
  "metadata": {
    "colab": {
      "provenance": []
    },
    "kernelspec": {
      "name": "python3",
      "display_name": "Python 3"
    },
    "language_info": {
      "name": "python"
    }
  },
  "cells": [
    {
      "cell_type": "code",
      "execution_count": 7,
      "metadata": {
        "colab": {
          "base_uri": "https://localhost:8080/"
        },
        "id": "Z0197cJVSL3L",
        "outputId": "3550114b-5dbc-443e-b52c-fffd295e7874"
      },
      "outputs": [
        {
          "output_type": "stream",
          "name": "stdout",
          "text": [
            "   EmailID                        Subject                 Sender                                                  Content  ContainsLink  IsSpam\n",
            "0        1             Win a Free iPhone!       promo@winbig.com                Click here to claim your free iPhone now!          True    True\n",
            "1        2  Important: Account Suspension   support@fakemail.com                 We noticed unusual activity. Verify now.          True    True\n",
            "2        3      Newsletter - April Update  news@legitcompany.com                         Here is your monthly newsletter.         False   False\n",
            "3        4         You have been selected       lottery@scam.org               Congratulations! You are our lucky winner!          True    True\n",
            "4        5            Team Meeting Agenda  colleague@company.com  Please find the agenda for tomorrow’s meeting attached.         False   False\n",
            "   EmailID                        Subject                Sender                                    Content  ContainsLink  IsSpam\n",
            "0        1             Win a Free iPhone!      promo@winbig.com  Click here to claim your free iPhone now!          True    True\n",
            "1        2  Important: Account Suspension  support@fakemail.com   We noticed unusual activity. Verify now.          True    True\n",
            "   EmailID                 Subject                 Sender                                                  Content  ContainsLink  IsSpam\n",
            "3        4  You have been selected       lottery@scam.org               Congratulations! You are our lucky winner!          True    True\n",
            "4        5     Team Meeting Agenda  colleague@company.com  Please find the agenda for tomorrow’s meeting attached.         False   False\n"
          ]
        }
      ],
      "source": [
        "import pandas as pd\n",
        "\n",
        "data_frame = pd.read_csv(\"sample_junk_mail.csv\")\n",
        "first_two_records = data_frame.head(2)\n",
        "last_two_records = data_frame.tail(2)\n",
        "all_records = data_frame.tail()\n",
        "print(all_records.to_string())\n",
        "print(first_two_records.to_string())\n",
        "print(last_two_records.to_string())"
      ]
    }
  ]
}