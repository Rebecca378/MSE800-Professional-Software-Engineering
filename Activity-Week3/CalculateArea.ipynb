{
  "nbformat": 4,
  "nbformat_minor": 0,
  "metadata": {
    "colab": {
      "provenance": []
    },
    "kernelspec": {
      "name": "python3",
      "display_name": "Python 3"
    },
    "language_info": {
      "name": "python"
    }
  },
  "cells": [
    {
      "cell_type": "code",
      "execution_count": null,
      "metadata": {
        "id": "J9I2as2rVTuQ"
      },
      "outputs": [],
      "source": [
        "# Function to calculate the area of a rectangle\n",
        "\n",
        "import math\n",
        "\n",
        "def calculate_area(length, width):\n",
        "    # Ensure the dimensions are positive\n",
        "    length = abs(length)\n",
        "    width = abs(width)\n",
        "\n",
        "    # Calculate the area\n",
        "    area = length * width\n",
        "\n",
        "    # Round the area to 2 decimal places\n",
        "    rounded_area = round(area, 2)\n",
        "\n",
        "    return rounded_area\n",
        "\n",
        "# Input dimensions of the rectangle\n",
        "length = float(input(\"Enter the length of the rectangle: \"))\n",
        "width = float(input(\"Enter the width of the rectangle: \"))\n",
        "\n",
        "# Calculate and display the area\n",
        "area = calculate_area(length, width)\n",
        "print(f\"The rounded area of the rectangle is: {area}\")\n",
        "\n",
        "# Additional note: If you want the square of a side (hypothetical case)\n",
        "# you can calculate it as follows:\n",
        "square_of_length = round(length ** 2, 2)\n",
        "print(f\"The square of the length is approximately: {square_of_length}\")"
      ]
    }
  ]
}